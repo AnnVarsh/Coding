{
 "cells": [
  {
   "cell_type": "code",
   "execution_count": null,
   "metadata": {},
   "outputs": [],
   "source": []
  },
  {
   "cell_type": "code",
   "execution_count": null,
   "metadata": {},
   "outputs": [],
   "source": [
    "a = []"
   ]
  },
  {
   "cell_type": "code",
   "execution_count": null,
   "metadata": {},
   "outputs": [],
   "source": [
    "a = [1,0,3,0,0,1]\n",
    "for i in range(len(a)):\n",
    "    if a[i] == 0:\n",
    "        if (a[i+1]!= 0):\n",
    "            for j in range(i+1,len(a)-1):\n",
    "                print(a[j+1])\n",
    "            \n",
    "                temp = a[j+1]\n",
    "                a[j+1] = a[j]\n",
    "                a[j] = temp\n",
    "print(a)"
   ]
  },
  {
   "cell_type": "code",
   "execution_count": null,
   "metadata": {},
   "outputs": [],
   "source": [
    "def isValid(s):\n",
    "        \"\"\"\n",
    "        :type s: str\n",
    "        :rtype: bool\n",
    "        \"\"\"\n",
    "        \n",
    "        stack = []\n",
    "        dict1 = {\"]\":\"[\",\"}\":\"{\",\")\":\"(\"}\n",
    "        \n",
    "        for bracket in s:\n",
    "            if bracket in dict1.values():\n",
    "                print(stack)\n",
    "                stack.append(bracket)\n",
    "            elif bracket in dict1.keys():\n",
    "                #print(\"sssss \"+stack.pop())\n",
    "                if stack==[] or dict1[bracket] != stack.pop():\n",
    "                    #print(\"stack \"+stack)\n",
    "                    return False\n",
    "            else:\n",
    "                return False\n",
    "            \n",
    "        return stack==[]\n",
    "    "
   ]
  },
  {
   "cell_type": "code",
   "execution_count": null,
   "metadata": {},
   "outputs": [],
   "source": [
    "isValid(\"[(({))]\")"
   ]
  },
  {
   "cell_type": "code",
   "execution_count": null,
   "metadata": {},
   "outputs": [],
   "source": [
    "list1 = [1,2,3]\n",
    "\n",
    "if list1[0] != 3:\n",
    "    print(list1.pop())\n",
    "    \n",
    "print(list1)"
   ]
  },
  {
   "cell_type": "code",
   "execution_count": null,
   "metadata": {},
   "outputs": [],
   "source": [
    "class Iterator(object):\n",
    "    def __init__(self, nums):\n",
    "        \"\"\"\n",
    "        Initializes an iterator object to the beginning of a list.\n",
    "        :type nums: List[int]\n",
    "        \"\"\"\n",
    "\n",
    "    def hasNext(self):\n",
    "        \"\"\"\n",
    "        Returns true if the iteration has more elements.\n",
    "        :rtype: bool\n",
    "        \"\"\"\n",
    "\n",
    "    def next(self):\n",
    "        \"\"\"\n",
    "        Returns the next element in the iteration.\n",
    "        :rtype: int\n",
    "        \"\"\"\n"
   ]
  },
  {
   "cell_type": "code",
   "execution_count": null,
   "metadata": {},
   "outputs": [],
   "source": [
    "class PeekingIterator(object):\n",
    "    def __init__(self, iterator):\n",
    "        \"\"\"\n",
    "        Initialize your data structure here.\n",
    "        :type iterator: Iterator\n",
    "        \"\"\"\n",
    "        self.iterator = iterator\n",
    "        self.temp = self.iterator.next() if self.iterator.hasNext() else None\n",
    "        \n",
    "\n",
    "    def peek(self):\n",
    "        \"\"\"\n",
    "        Returns the next element in the iteration without advancing the iterator.\n",
    "        :rtype: int\n",
    "        \"\"\"\n",
    "        return self.temp\n",
    "        \n",
    "\n",
    "    def next(self):\n",
    "        \"\"\"\n",
    "        :rtype: int\n",
    "        \"\"\"\n",
    "        return_element = self.temp\n",
    "        self.temp = self.iterator.next() if self.iterator.hasNext() else None\n",
    "        return return_element\n",
    "        \n",
    "\n",
    "    def hasNext(self):\n",
    "        \"\"\"\n",
    "        :rtype: bool\n",
    "        \"\"\"\n",
    "        return self.temp is not None\n",
    "        \n",
    "\n",
    "# Your PeekingIterator object will be instantiated and called as such:\n",
    "# iter = PeekingIterator(Iterator(nums))\n",
    "# while iter.hasNext():\n",
    "#     val = iter.peek()   # Get the next element but not advance the iterator.\n",
    "#     iter.next()         # Should return the same value as [val]."
   ]
  },
  {
   "cell_type": "code",
   "execution_count": null,
   "metadata": {},
   "outputs": [],
   "source": [
    "it = PeekingIterator(Iterator([2,3]))"
   ]
  },
  {
   "cell_type": "code",
   "execution_count": null,
   "metadata": {},
   "outputs": [],
   "source": [
    "it.hasNext()"
   ]
  },
  {
   "cell_type": "code",
   "execution_count": null,
   "metadata": {},
   "outputs": [],
   "source": [
    "it.next()"
   ]
  },
  {
   "cell_type": "code",
   "execution_count": null,
   "metadata": {},
   "outputs": [],
   "source": [
    "while it.hasNext():\n",
    "    val = it.peek()\n",
    "    print(val)"
   ]
  },
  {
   "cell_type": "code",
   "execution_count": null,
   "metadata": {},
   "outputs": [],
   "source": [
    "list1 = [0]*10"
   ]
  },
  {
   "cell_type": "code",
   "execution_count": null,
   "metadata": {},
   "outputs": [],
   "source": [
    "list1[0]=1"
   ]
  },
  {
   "cell_type": "code",
   "execution_count": null,
   "metadata": {},
   "outputs": [],
   "source": [
    "list1"
   ]
  },
  {
   "cell_type": "code",
   "execution_count": null,
   "metadata": {},
   "outputs": [],
   "source": [
    "import numpy"
   ]
  },
  {
   "cell_type": "code",
   "execution_count": null,
   "metadata": {},
   "outputs": [],
   "source": [
    "a=[1,0,1]\n",
    "b=[1,1,0]\n",
    "\n",
    "c=numpy.array(a)+numpy.array(b)\n",
    "d= numpy.array(a)-numpy.array(b)"
   ]
  },
  {
   "cell_type": "code",
   "execution_count": null,
   "metadata": {},
   "outputs": [],
   "source": [
    "tp=0\n",
    "tn=0\n",
    "fp=0\n",
    "fn=0\n",
    "for i in c:\n",
    "    if i==2:\n",
    "        tp+=1\n",
    "    elif i == 0:\n",
    "        tn+=1\n",
    "\n",
    "for i in d:\n",
    "    if i==1:\n",
    "        fn+=1\n",
    "    elif i == -1:\n",
    "        fp+=1\n"
   ]
  },
  {
   "cell_type": "code",
   "execution_count": null,
   "metadata": {},
   "outputs": [],
   "source": [
    "print(tp,tn,fp,fn)"
   ]
  },
  {
   "cell_type": "code",
   "execution_count": null,
   "metadata": {},
   "outputs": [],
   "source": [
    "diff(a)"
   ]
  },
  {
   "cell_type": "code",
   "execution_count": null,
   "metadata": {},
   "outputs": [],
   "source": [
    "arr = numpy.array([[-1,2],[1,1]])"
   ]
  },
  {
   "cell_type": "code",
   "execution_count": null,
   "metadata": {},
   "outputs": [],
   "source": [
    "arr[arr>0]"
   ]
  },
  {
   "cell_type": "code",
   "execution_count": null,
   "metadata": {},
   "outputs": [],
   "source": [
    "arr.sum(axis=1)"
   ]
  },
  {
   "cell_type": "code",
   "execution_count": null,
   "metadata": {},
   "outputs": [],
   "source": [
    "numpy.log(arr)"
   ]
  },
  {
   "cell_type": "code",
   "execution_count": null,
   "metadata": {},
   "outputs": [],
   "source": [
    "numpy.log(arr.sum(axis=1))"
   ]
  },
  {
   "cell_type": "code",
   "execution_count": null,
   "metadata": {},
   "outputs": [],
   "source": [
    "c[0]"
   ]
  },
  {
   "cell_type": "code",
   "execution_count": null,
   "metadata": {},
   "outputs": [],
   "source": [
    "numpy.sum(arr)"
   ]
  },
  {
   "cell_type": "code",
   "execution_count": null,
   "metadata": {},
   "outputs": [],
   "source": [
    "a1 = \"abc\"\n",
    "a2 = \"bcd\"\n",
    "\n",
    "for i, j in zip(a1,a2):\n",
    "    print(i,j)"
   ]
  },
  {
   "cell_type": "code",
   "execution_count": null,
   "metadata": {},
   "outputs": [],
   "source": [
    "words = [\"abc\",\"deq\",\"mee\",\"aqq\",\"dkd\",\"ccc\"]\n",
    "pattern = \"abb\""
   ]
  },
  {
   "cell_type": "code",
   "execution_count": null,
   "metadata": {},
   "outputs": [],
   "source": [
    "\n",
    "words_match = []\n",
    "for i in words:\n",
    "    print(\"word \"+i)\n",
    "    dict1 = {}\n",
    "    flag = 1\n",
    "    if len(i)!=len(pattern):\n",
    "        continue\n",
    "    for x,y in zip(pattern,i):\n",
    "        print(x,y)\n",
    "        if x not in dict1.keys():\n",
    "            if y not in dict1.values():\n",
    "                dict1[x] = y\n",
    "            else:\n",
    "                flag = 0\n",
    "                break\n",
    "        else:\n",
    "            if dict1[x]!= y:\n",
    "                flag=0\n",
    "                break\n",
    "                \n",
    "    if flag==1:\n",
    "        words_match.append(i)"
   ]
  },
  {
   "cell_type": "code",
   "execution_count": null,
   "metadata": {},
   "outputs": [],
   "source": [
    "words_match"
   ]
  },
  {
   "cell_type": "code",
   "execution_count": null,
   "metadata": {},
   "outputs": [],
   "source": [
    "nums = [3,4,1]\n",
    "\n",
    "\n",
    "res = [1]*len(nums)\n",
    "prod = 1\n",
    "for i in range(len(nums)):\n",
    "    res[i] *= prod\n",
    "    prod *= nums[i]\n",
    "    \n",
    "prod = 1\n",
    "for i in range(len(nums)-1,-1,-1):\n",
    "    res[i] *= prod\n",
    "    prod *= nums[i]\n",
    "res"
   ]
  },
  {
   "cell_type": "code",
   "execution_count": null,
   "metadata": {},
   "outputs": [],
   "source": [
    "def multiple():\n",
    "    a= 1\n",
    "    b=1\n",
    "    return a,b"
   ]
  },
  {
   "cell_type": "code",
   "execution_count": null,
   "metadata": {},
   "outputs": [],
   "source": [
    "a,y = multiple()\n",
    "y"
   ]
  },
  {
   "cell_type": "code",
   "execution_count": null,
   "metadata": {},
   "outputs": [],
   "source": [
    "s = 'abcabcbb'\n",
    "max_len = 0\n",
    "cur = ''   # save the new substring\n",
    "for item in s:\n",
    "    print('out', item)\n",
    "    if item in cur:\n",
    "        print('in', item)\n",
    "        item_index = cur.index(item)\n",
    "        cur = cur[item_index+1:] + item\n",
    "        print(cur)\n",
    "    else:\n",
    "        cur += item\n",
    "    max_len = max(max_len, len(cur))\n",
    "print(max_len)"
   ]
  },
  {
   "cell_type": "code",
   "execution_count": null,
   "metadata": {},
   "outputs": [],
   "source": [
    "s = 'abcabcbb'\n",
    "\n",
    "max_length = 0\n",
    "mark = 0\n",
    "seen = {}\n",
    "\n",
    "for i in range(len(s)):\n",
    "    char_now = s[i]\n",
    "    if char_now in seen:\n",
    "        mark = max(mark, seen[char_now]+1)\n",
    "    max_length = max(max_length, i-mark+1)\n",
    "    seen[char_now] = i\n",
    "\n",
    "print(seen)\n",
    "print(max_length)"
   ]
  },
  {
   "cell_type": "code",
   "execution_count": null,
   "metadata": {},
   "outputs": [],
   "source": [
    "\"\".join(sorted(s))"
   ]
  },
  {
   "cell_type": "code",
   "execution_count": null,
   "metadata": {},
   "outputs": [],
   "source": [
    "dict1 = {}\n",
    "strs = [\"eat\", \"tea\", \"tan\", \"ate\", \"nat\", \"bat\"]        \n",
    "        \n",
    "for i in strs:\n",
    "    sortedstr = \"\".join(sorted(i))\n",
    "    if sortedstr in dict1.keys():\n",
    "        dict1[sortedstr].append(i)\n",
    "    else:\n",
    "        dict1[sortedstr] = []\n",
    "        dict1[sortedstr].append(i)\n",
    "\n",
    "print(dict1.values())\n",
    "        "
   ]
  },
  {
   "cell_type": "code",
   "execution_count": 31,
   "metadata": {},
   "outputs": [
    {
     "data": {
      "text/plain": [
       "[2, 3, 4]"
      ]
     },
     "execution_count": 31,
     "metadata": {},
     "output_type": "execute_result"
    }
   ],
   "source": [
    "a=[3,2,4]\n",
    "b = sorted(a)\n",
    "a.sort()\n",
    "b"
   ]
  },
  {
   "cell_type": "code",
   "execution_count": 32,
   "metadata": {},
   "outputs": [
    {
     "data": {
      "text/plain": [
       "[2, 3, 4, 2, 3, 4]"
      ]
     },
     "execution_count": 32,
     "metadata": {},
     "output_type": "execute_result"
    }
   ],
   "source": [
    "a+b"
   ]
  },
  {
   "cell_type": "code",
   "execution_count": null,
   "metadata": {},
   "outputs": [],
   "source": [
    "l1 = list(\"abc\")\n",
    "ord(l1[0])-ord('b')"
   ]
  },
  {
   "cell_type": "code",
   "execution_count": null,
   "metadata": {},
   "outputs": [],
   "source": [
    "l1"
   ]
  },
  {
   "cell_type": "code",
   "execution_count": null,
   "metadata": {},
   "outputs": [],
   "source": [
    "set(\"abc\")"
   ]
  },
  {
   "cell_type": "code",
   "execution_count": null,
   "metadata": {},
   "outputs": [],
   "source": [
    "l1.append(1)\n",
    "l1"
   ]
  },
  {
   "cell_type": "code",
   "execution_count": null,
   "metadata": {},
   "outputs": [],
   "source": [
    "\n",
    "def StrToInt(string):\n",
    "\tcharsList = list(string)\n",
    "\tintValue = 0\n",
    "\tfor i in charsList:\n",
    "\t\tintValue = intValue*10 + ord(i) - ord('0')\n",
    "\n",
    "\t\n",
    "\treturn intValue\n",
    "\n",
    "StrToInt(\"123\")"
   ]
  },
  {
   "cell_type": "code",
   "execution_count": null,
   "metadata": {},
   "outputs": [],
   "source": [
    "class poly:\n",
    "    \n",
    "    def sum1(self,a):\n",
    "        return a+a\n",
    "\n",
    "    def sum1(self,a,b):\n",
    "        return a+b\n"
   ]
  },
  {
   "cell_type": "code",
   "execution_count": null,
   "metadata": {},
   "outputs": [],
   "source": [
    "sum1(2,3)"
   ]
  },
  {
   "cell_type": "code",
   "execution_count": null,
   "metadata": {},
   "outputs": [],
   "source": [
    "obj = poly()\n"
   ]
  },
  {
   "cell_type": "code",
   "execution_count": null,
   "metadata": {},
   "outputs": [],
   "source": [
    "obj.sum1(2)"
   ]
  },
  {
   "cell_type": "code",
   "execution_count": null,
   "metadata": {},
   "outputs": [],
   "source": [
    "strs = [\"flower\",\"flow\",\"flight\"]\n",
    "prefix = strs[0]\n",
    "\n",
    "for i in range(1, len(strs)):\n",
    "    print(strs[i],\"out\")\n",
    "    while(strs[i].find(prefix)!= 0):\n",
    "        print(strs[i].find(prefix),\" in \",prefix)\n",
    "        prefix = prefix[:-1]\n",
    "        if len(prefix)==0:\n",
    "            print (\"\")\n",
    "print(prefix, \"pre\")"
   ]
  },
  {
   "cell_type": "code",
   "execution_count": 8,
   "metadata": {},
   "outputs": [
    {
     "name": "stdout",
     "output_type": "stream",
     "text": [
      "3 1\n",
      "2 1\n",
      "1\n",
      "6 1\n",
      "4 1\n",
      "2\n",
      "8 3\n",
      "5 3\n",
      "nope\n"
     ]
    }
   ],
   "source": [
    "stones = [0,1,3,5,6,8,12,17]\n",
    "curpos = stones[1]\n",
    "prevsteps = stones[1] - 0\n",
    "index = 1\n",
    "prevpos = 0\n",
    "\n",
    "while index < len(stones) :\n",
    "    prevsteps = curpos - prevpos\n",
    "    prevpos = curpos\n",
    "    if curpos == stones[len(stones)-1]:\n",
    "        print(str(curpos) + \" 4\")\n",
    "        break\n",
    "    if ((stones[index+1] - curpos) > (prevsteps +1) or (stones[index+1] - curpos) < (prevsteps -1)):\n",
    "        break\n",
    "    \n",
    "    if (curpos + prevsteps + 1) in stones:\n",
    "        #prevpos = curpos\n",
    "        curpos = curpos + prevsteps + 1\n",
    "        index = stones.index(curpos)\n",
    "        print(str(curpos) + \" 1\")\n",
    "        print(str(index) + \" 1\")\n",
    "        #prevsteps = prevsteps+1\n",
    "        print(prevsteps)\n",
    "    elif (curpos + prevsteps) in stones:\n",
    "        index = stones.index(curpos + prevsteps)\n",
    "        #prevpos = curpos\n",
    "        curpos = curpos + prevsteps\n",
    "        print(str(curpos) + \" 2\")\n",
    "    elif (curpos + prevsteps - 1) in stones:\n",
    "        index = stones.index(curpos + prevsteps - 1)\n",
    "        #prevpos = curpos\n",
    "        curpos = curpos + prevsteps - 1\n",
    "        #prevsteps=prevsteps-1\n",
    "        print(str(curpos) + \" 3\")\n",
    "        print(str(index)+\" 3\")\n",
    "\n",
    "    \n",
    "\n",
    "\n",
    "    print(\"nope\")"
   ]
  },
  {
   "cell_type": "code",
   "execution_count": null,
   "metadata": {},
   "outputs": [],
   "source": []
  },
  {
   "cell_type": "code",
   "execution_count": 44,
   "metadata": {},
   "outputs": [
    {
     "data": {
      "text/plain": [
       "{0: set(),\n",
       " 1: {1},\n",
       " 3: set(),\n",
       " 5: set(),\n",
       " 6: set(),\n",
       " 8: set(),\n",
       " 12: set(),\n",
       " 17: set()}"
      ]
     },
     "execution_count": 44,
     "metadata": {},
     "output_type": "execute_result"
    }
   ],
   "source": [
    "stones = [0,1,3,5,6,8,12,17]\n",
    "d = {x: set() for x in stones}\n",
    "d[1].add(1)\n",
    "d"
   ]
  },
  {
   "cell_type": "code",
   "execution_count": 15,
   "metadata": {},
   "outputs": [
    {
     "data": {
      "text/plain": [
       "[1, 0, 0]"
      ]
     },
     "execution_count": 15,
     "metadata": {},
     "output_type": "execute_result"
    }
   ],
   "source": [
    "#\"\".join(stones)\n",
    "\n",
    "\n",
    "increased = int(\"\".join([str(i) for i in [9,9]]))+1\n",
    "[int(i) for i in str(increased)]"
   ]
  },
  {
   "cell_type": "code",
   "execution_count": 39,
   "metadata": {},
   "outputs": [
    {
     "data": {
      "text/plain": [
       "'bc'"
      ]
     },
     "execution_count": 39,
     "metadata": {},
     "output_type": "execute_result"
    }
   ],
   "source": [
    "\"abc\"[-2:]"
   ]
  },
  {
   "cell_type": "code",
   "execution_count": 17,
   "metadata": {},
   "outputs": [
    {
     "name": "stdout",
     "output_type": "stream",
     "text": [
      "[1, 2, 2, 3, 3, 4]\n",
      "[1, 2, 3, 3, 3, 4]\n",
      "[1, 2, 3, 4, 3, 4]\n",
      "[1, 2, 3, 4]\n"
     ]
    }
   ],
   "source": [
    "nums=[1,1,2,3,3,4]\n",
    "i = 0\n",
    "count=0\n",
    "for j in range(len(nums)):\n",
    "    if nums[j]!=nums[i]:\n",
    "        i+=1\n",
    "        nums[i] = nums[j]\n",
    "        print(nums)\n",
    "    else:\n",
    "        count+=1\n",
    "#print(nums[:-i])\n",
    "print(nums[:-(count-1)])"
   ]
  },
  {
   "cell_type": "code",
   "execution_count": 29,
   "metadata": {},
   "outputs": [],
   "source": [
    "def parenthesis(str1):\n",
    "    dict1 = {\"]\":\"[\",\"}\":\"{\",\")\":\"(\"}\n",
    "    stack = []\n",
    "    \n",
    "    for i in str1:\n",
    "        if i in dict1.values():\n",
    "            stack.append(i)\n",
    "        \n",
    "        elif i in dict1:\n",
    "            if stack is None or stack.pop() != dict1[i]:\n",
    "                return False\n",
    "            \n",
    "        else:\n",
    "            return False\n",
    "        \n",
    "    return stack==[]\n",
    "            \n",
    "    "
   ]
  },
  {
   "cell_type": "code",
   "execution_count": 30,
   "metadata": {},
   "outputs": [
    {
     "data": {
      "text/plain": [
       "True"
      ]
     },
     "execution_count": 30,
     "metadata": {},
     "output_type": "execute_result"
    }
   ],
   "source": [
    "parenthesis(\"([])\")"
   ]
  },
  {
   "cell_type": "code",
   "execution_count": 51,
   "metadata": {},
   "outputs": [
    {
     "name": "stdout",
     "output_type": "stream",
     "text": [
      "{'aaa': 'aaagtcc', 'agt': 'agtcgatg', 'tcc': 'tccajdagt', 'atg': 'atgagtagccat'}\n",
      "{'tcc': 'aaagtcc', 'atg': 'agtcgatg', 'agt': 'tccajdagt', 'cat': 'atgagtagccat'}\n"
     ]
    }
   ],
   "source": []
  },
  {
   "cell_type": "code",
   "execution_count": 61,
   "metadata": {},
   "outputs": [
    {
     "name": "stdout",
     "output_type": "stream",
     "text": [
      "{'aaa': 'aaagtcc', 'agt': 'agtcgatg', 'tcc': 'tccajdagt', 'atg': 'atgagtagccat'}\n",
      "{'tcc': 'aaagtcc', 'atg': 'agtcgatg', 'agt': 'tccajdagt', 'cat': 'atgagtagccat'}\n",
      "aaagtcc\n",
      "['aaagtcc']\n",
      "['aaagtcc', 'tccajdagt']\n",
      "['aaagtcc', 'tccajdagt', 'agtcgatg']\n",
      "{'tcc': 'tccajdagt'}\n",
      "{'cat': 'atgagtagccat'}\n"
     ]
    }
   ],
   "source": [
    "dna = [\"aaagtcc\",\"agtcgatg\",\"tccajdagt\",\"atgagtagccat\"]\n",
    "#aaagtccajdagtcgatgagtagccat\n",
    "match = \"\"\n",
    "\n",
    "beg = {}\n",
    "end = {}\n",
    "for i in dna:\n",
    "    beg[i[:3]] = i\n",
    "    end[i[-3:]] = i\n",
    "# for i in range(len(dna)):\n",
    "#     for j in range(i,len(dna)):\n",
    "#         if dna[i][-3:]\n",
    "print(beg)\n",
    "print(end)\n",
    "\n",
    "for i in beg.keys():\n",
    "    if i not in end:\n",
    "        beginngstr = beg[i]\n",
    "        beg.pop(i)\n",
    "        break\n",
    "        \n",
    "end.pop(beginngstr[-3:])\n",
    "print(beginngstr)\n",
    "joinstr = []\n",
    "joinstr.append(beginngstr)\n",
    "while len(beg)!=1:\n",
    "    print(joinstr)\n",
    "    \n",
    "    for i in beg:\n",
    "        if i in end:\n",
    "            joinstr.append(end[i])\n",
    "            #joinstr.append(beg[i])\n",
    "            beg.pop(i)\n",
    "            end.pop(i)\n",
    "            break\n",
    "endstr = list(end.values())[0]\n",
    "#joinstr  \n",
    "print(joinstr)\n",
    "print(beg)\n",
    "print(end)\n",
    "\n"
   ]
  },
  {
   "cell_type": "code",
   "execution_count": 53,
   "metadata": {},
   "outputs": [
    {
     "data": {
      "text/plain": [
       "'atgagtagccat'"
      ]
     },
     "execution_count": 53,
     "metadata": {},
     "output_type": "execute_result"
    }
   ],
   "source": [
    "list(end.values())[0]"
   ]
  },
  {
   "cell_type": "code",
   "execution_count": 62,
   "metadata": {},
   "outputs": [],
   "source": [
    "finalstr = \"\"\n",
    "for i in joinstr:\n",
    "    finalstr+=i[:-3]\n",
    "#finalstr+endstr[-3:]"
   ]
  },
  {
   "cell_type": "code",
   "execution_count": 66,
   "metadata": {},
   "outputs": [
    {
     "data": {
      "text/plain": [
       "'aaagtccajdagtcg'"
      ]
     },
     "execution_count": 66,
     "metadata": {},
     "output_type": "execute_result"
    }
   ],
   "source": [
    "finalstr\n",
    "\n",
    "'aaagtccajdagtcg'\n",
    "\"aaagtccajdagtcgatgagtagccat\""
   ]
  },
  {
   "cell_type": "code",
   "execution_count": 59,
   "metadata": {},
   "outputs": [
    {
     "data": {
      "text/plain": [
       "['aaagtcc', 'tccajdagt', 'agtcgatg', 'agtcgatg', 'atgagtagccat']"
      ]
     },
     "execution_count": 59,
     "metadata": {},
     "output_type": "execute_result"
    }
   ],
   "source": [
    "joinstr"
   ]
  },
  {
   "cell_type": "code",
   "execution_count": 68,
   "metadata": {},
   "outputs": [
    {
     "name": "stdout",
     "output_type": "stream",
     "text": [
      "yes\n"
     ]
    }
   ],
   "source": [
    "final = finalstr+endstr\n",
    "if final == \"aaagtccajdagtcgatgagtagccat\":\n",
    "    print(\"yes\")"
   ]
  },
  {
   "cell_type": "code",
   "execution_count": 64,
   "metadata": {},
   "outputs": [
    {
     "data": {
      "text/plain": [
       "'aaagtccajdagtcgcat'"
      ]
     },
     "execution_count": 64,
     "metadata": {},
     "output_type": "execute_result"
    }
   ],
   "source": [
    "\"ab\"[-1:]\n",
    "final"
   ]
  },
  {
   "cell_type": "code",
   "execution_count": 18,
   "metadata": {},
   "outputs": [
    {
     "data": {
      "text/plain": [
       "19"
      ]
     },
     "execution_count": 18,
     "metadata": {},
     "output_type": "execute_result"
    }
   ],
   "source": [
    "ord('a')%26"
   ]
  },
  {
   "cell_type": "code",
   "execution_count": 42,
   "metadata": {},
   "outputs": [
    {
     "data": {
      "text/plain": [
       "dict_values([['abc', 'bcd', 'xyz'], ['acef'], ['az', 'ba'], ['a', 'z']])"
      ]
     },
     "execution_count": 42,
     "metadata": {},
     "output_type": "execute_result"
    }
   ],
   "source": [
    "strings = [\"abc\", \"bcd\", \"acef\", \"xyz\", \"az\", \"ba\", \"a\", \"z\"]\n",
    "dict1 = {}\n",
    "        \n",
    "for s in strings:\n",
    "    a1 = \"\".join([str((ord(c) - ord(s[0]))%26) for c in s])\n",
    "    #l1 = \"\".join([str((ord(c) - ord(s[0]))%26) for c in s])\n",
    "    if a1 not in dict1:\n",
    "        dict1[a1] = [s]\n",
    "    else:\n",
    "        dict1[a1].append(s)\n",
    "\n",
    "#return [dict1[key] for key in dict1.keys()]\n",
    "dict1.values()"
   ]
  },
  {
   "cell_type": "code",
   "execution_count": 31,
   "metadata": {},
   "outputs": [
    {
     "ename": "SyntaxError",
     "evalue": "invalid token (<ipython-input-31-048df6681fe9>, line 2)",
     "output_type": "error",
     "traceback": [
      "\u001b[1;36m  File \u001b[1;32m\"<ipython-input-31-048df6681fe9>\"\u001b[1;36m, line \u001b[1;32m2\u001b[0m\n\u001b[1;33m    dict2[01]=\"b\"\u001b[0m\n\u001b[1;37m           ^\u001b[0m\n\u001b[1;31mSyntaxError\u001b[0m\u001b[1;31m:\u001b[0m invalid token\n"
     ]
    }
   ],
   "source": [
    "dict2 = {}\n",
    "dict2[01]=\"b\"\n",
    "dict2"
   ]
  },
  {
   "cell_type": "code",
   "execution_count": 19,
   "metadata": {},
   "outputs": [
    {
     "data": {
      "text/plain": [
       "'-1'"
      ]
     },
     "execution_count": 19,
     "metadata": {},
     "output_type": "execute_result"
    }
   ],
   "source": [
    "str(-1)"
   ]
  }
 ],
 "metadata": {
  "kernelspec": {
   "display_name": "Python 3",
   "language": "python",
   "name": "python3"
  },
  "language_info": {
   "codemirror_mode": {
    "name": "ipython",
    "version": 3
   },
   "file_extension": ".py",
   "mimetype": "text/x-python",
   "name": "python",
   "nbconvert_exporter": "python",
   "pygments_lexer": "ipython3",
   "version": "3.7.0"
  }
 },
 "nbformat": 4,
 "nbformat_minor": 2
}
