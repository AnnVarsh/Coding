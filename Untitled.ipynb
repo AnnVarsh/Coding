{
 "cells": [
  {
   "cell_type": "code",
   "execution_count": null,
   "metadata": {},
   "outputs": [],
   "source": []
  },
  {
   "cell_type": "code",
   "execution_count": null,
   "metadata": {},
   "outputs": [],
   "source": [
    "a = []"
   ]
  },
  {
   "cell_type": "code",
   "execution_count": null,
   "metadata": {},
   "outputs": [],
   "source": [
    "a = [1,0,3,0,0,1]\n",
    "for i in range(len(a)):\n",
    "    if a[i] == 0:\n",
    "        if (a[i+1]!= 0):\n",
    "            for j in range(i+1,len(a)-1):\n",
    "                print(a[j+1])\n",
    "            \n",
    "                temp = a[j+1]\n",
    "                a[j+1] = a[j]\n",
    "                a[j] = temp\n",
    "print(a)"
   ]
  },
  {
   "cell_type": "code",
   "execution_count": 43,
   "metadata": {},
   "outputs": [],
   "source": [
    "def isValid(s):\n",
    "        \"\"\"\n",
    "        :type s: str\n",
    "        :rtype: bool\n",
    "        \"\"\"\n",
    "        \n",
    "        stack = []\n",
    "        dict1 = {\"]\":\"[\",\"}\":\"{\",\")\":\"(\"}\n",
    "        \n",
    "        for bracket in s:\n",
    "            if bracket in dict1.values():\n",
    "                print(stack)\n",
    "                stack.append(bracket)\n",
    "            elif bracket in dict1.keys():\n",
    "                #print(\"sssss \"+stack.pop())\n",
    "                if stack==[] or dict1[bracket] != stack.pop():\n",
    "                    #print(\"stack \"+stack)\n",
    "                    return False\n",
    "            else:\n",
    "                return False\n",
    "            \n",
    "        return stack==[]\n",
    "    "
   ]
  },
  {
   "cell_type": "code",
   "execution_count": 44,
   "metadata": {},
   "outputs": [
    {
     "name": "stdout",
     "output_type": "stream",
     "text": [
      "[]\n",
      "['[']\n",
      "['[', '(']\n"
     ]
    },
    {
     "data": {
      "text/plain": [
       "False"
      ]
     },
     "execution_count": 44,
     "metadata": {},
     "output_type": "execute_result"
    }
   ],
   "source": [
    "isValid(\"[((a))]\")"
   ]
  },
  {
   "cell_type": "code",
   "execution_count": null,
   "metadata": {},
   "outputs": [],
   "source": [
    "list1 = [1,2,3]\n",
    "\n",
    "if list1[0] != 3:\n",
    "    print(list1.pop())\n",
    "    \n",
    "print(list1)"
   ]
  },
  {
   "cell_type": "code",
   "execution_count": null,
   "metadata": {},
   "outputs": [],
   "source": [
    "list1 = [0]*10"
   ]
  },
  {
   "cell_type": "code",
   "execution_count": null,
   "metadata": {},
   "outputs": [],
   "source": [
    "list1[0]=1"
   ]
  },
  {
   "cell_type": "code",
   "execution_count": null,
   "metadata": {},
   "outputs": [],
   "source": [
    "list1"
   ]
  },
  {
   "cell_type": "code",
   "execution_count": null,
   "metadata": {},
   "outputs": [],
   "source": [
    "import numpy"
   ]
  },
  {
   "cell_type": "code",
   "execution_count": null,
   "metadata": {},
   "outputs": [],
   "source": [
    "a=[1,0,1]\n",
    "b=[1,1,0]\n",
    "\n",
    "c=numpy.array(a)+numpy.array(b)\n",
    "d= numpy.array(a)-numpy.array(b)"
   ]
  },
  {
   "cell_type": "code",
   "execution_count": null,
   "metadata": {},
   "outputs": [],
   "source": [
    "tp=0\n",
    "tn=0\n",
    "fp=0\n",
    "fn=0\n",
    "for i in c:\n",
    "    if i==2:\n",
    "        tp+=1\n",
    "    elif i == 0:\n",
    "        tn+=1\n",
    "\n",
    "for i in d:\n",
    "    if i==1:\n",
    "        fn+=1\n",
    "    elif i == -1:\n",
    "        fp+=1\n"
   ]
  },
  {
   "cell_type": "code",
   "execution_count": null,
   "metadata": {},
   "outputs": [],
   "source": [
    "print(tp,tn,fp,fn)"
   ]
  },
  {
   "cell_type": "code",
   "execution_count": null,
   "metadata": {},
   "outputs": [],
   "source": [
    "diff(a)"
   ]
  },
  {
   "cell_type": "code",
   "execution_count": null,
   "metadata": {},
   "outputs": [],
   "source": [
    "arr = numpy.array([[-1,2],[1,1]])"
   ]
  },
  {
   "cell_type": "code",
   "execution_count": null,
   "metadata": {},
   "outputs": [],
   "source": [
    "arr[arr>0]"
   ]
  },
  {
   "cell_type": "code",
   "execution_count": null,
   "metadata": {},
   "outputs": [],
   "source": [
    "arr.sum(axis=1)"
   ]
  },
  {
   "cell_type": "code",
   "execution_count": null,
   "metadata": {},
   "outputs": [],
   "source": [
    "numpy.log(arr)"
   ]
  },
  {
   "cell_type": "code",
   "execution_count": null,
   "metadata": {},
   "outputs": [],
   "source": [
    "numpy.log(arr.sum(axis=1))"
   ]
  },
  {
   "cell_type": "code",
   "execution_count": null,
   "metadata": {},
   "outputs": [],
   "source": [
    "c[0]"
   ]
  },
  {
   "cell_type": "code",
   "execution_count": null,
   "metadata": {},
   "outputs": [],
   "source": [
    "numpy.sum(arr)"
   ]
  },
  {
   "cell_type": "code",
   "execution_count": null,
   "metadata": {},
   "outputs": [],
   "source": [
    "a1 = \"abc\"\n",
    "a2 = \"bcd\"\n",
    "\n",
    "for i, j in zip(a1,a2):\n",
    "    print(i,j)"
   ]
  },
  {
   "cell_type": "code",
   "execution_count": null,
   "metadata": {},
   "outputs": [],
   "source": [
    "words = [\"abc\",\"deq\",\"mee\",\"aqq\",\"dkd\",\"ccc\"]\n",
    "pattern = \"abb\""
   ]
  },
  {
   "cell_type": "code",
   "execution_count": null,
   "metadata": {},
   "outputs": [],
   "source": [
    "\n",
    "words_match = []\n",
    "for i in words:\n",
    "    print(\"word \"+i)\n",
    "    dict1 = {}\n",
    "    flag = 1\n",
    "    if len(i)!=len(pattern):\n",
    "        continue\n",
    "    for x,y in zip(pattern,i):\n",
    "        print(x,y)\n",
    "        if x not in dict1.keys():\n",
    "            if y not in dict1.values():\n",
    "                dict1[x] = y\n",
    "            else:\n",
    "                flag = 0\n",
    "                break\n",
    "        else:\n",
    "            if dict1[x]!= y:\n",
    "                flag=0\n",
    "                break\n",
    "                \n",
    "    if flag==1:\n",
    "        words_match.append(i)"
   ]
  },
  {
   "cell_type": "code",
   "execution_count": null,
   "metadata": {},
   "outputs": [],
   "source": [
    "words_match"
   ]
  },
  {
   "cell_type": "code",
   "execution_count": null,
   "metadata": {},
   "outputs": [],
   "source": [
    "nums = [3,4,1]\n",
    "\n",
    "\n",
    "res = [1]*len(nums)\n",
    "prod = 1\n",
    "for i in range(len(nums)):\n",
    "    res[i] *= prod\n",
    "    prod *= nums[i]\n",
    "    \n",
    "prod = 1\n",
    "for i in range(len(nums)-1,-1,-1):\n",
    "    res[i] *= prod\n",
    "    prod *= nums[i]\n",
    "res"
   ]
  },
  {
   "cell_type": "code",
   "execution_count": null,
   "metadata": {},
   "outputs": [],
   "source": [
    "def multiple():\n",
    "    a= 1\n",
    "    b=1\n",
    "    return a,b"
   ]
  },
  {
   "cell_type": "code",
   "execution_count": null,
   "metadata": {},
   "outputs": [],
   "source": [
    "a,y = multiple()\n",
    "y"
   ]
  },
  {
   "cell_type": "code",
   "execution_count": null,
   "metadata": {},
   "outputs": [],
   "source": [
    "s = 'abcabcbb'\n",
    "max_len = 0\n",
    "cur = ''   # save the new substring\n",
    "for item in s:\n",
    "    print('out', item)\n",
    "    if item in cur:\n",
    "        print('in', item)\n",
    "        item_index = cur.index(item)\n",
    "        cur = cur[item_index+1:] + item\n",
    "        print(cur)\n",
    "    else:\n",
    "        cur += item\n",
    "    max_len = max(max_len, len(cur))\n",
    "print(max_len)"
   ]
  },
  {
   "cell_type": "code",
   "execution_count": null,
   "metadata": {},
   "outputs": [],
   "source": [
    "s = 'abcabcbb'\n",
    "\n",
    "max_length = 0\n",
    "mark = 0\n",
    "seen = {}\n",
    "\n",
    "for i in range(len(s)):\n",
    "    char_now = s[i]\n",
    "    if char_now in seen:\n",
    "        mark = max(mark, seen[char_now]+1)\n",
    "    max_length = max(max_length, i-mark+1)\n",
    "    seen[char_now] = i\n",
    "\n",
    "print(seen)\n",
    "print(max_length)"
   ]
  },
  {
   "cell_type": "code",
   "execution_count": null,
   "metadata": {},
   "outputs": [],
   "source": [
    "\"\".join(sorted(s))"
   ]
  },
  {
   "cell_type": "code",
   "execution_count": null,
   "metadata": {},
   "outputs": [],
   "source": [
    "dict1 = {}\n",
    "strs = [\"eat\", \"tea\", \"tan\", \"ate\", \"nat\", \"bat\"]        \n",
    "        \n",
    "for i in strs:\n",
    "    sortedstr = \"\".join(sorted(i))\n",
    "    if sortedstr in dict1.keys():\n",
    "        dict1[sortedstr].append(i)\n",
    "    else:\n",
    "        dict1[sortedstr] = []\n",
    "        dict1[sortedstr].append(i)\n",
    "\n",
    "print(dict1.values())\n",
    "        "
   ]
  },
  {
   "cell_type": "code",
   "execution_count": null,
   "metadata": {},
   "outputs": [],
   "source": [
    "a=[3,2,4]\n",
    "b = sorted(a)\n",
    "a.sort()\n",
    "b"
   ]
  },
  {
   "cell_type": "code",
   "execution_count": null,
   "metadata": {},
   "outputs": [],
   "source": [
    "a+b"
   ]
  },
  {
   "cell_type": "code",
   "execution_count": null,
   "metadata": {},
   "outputs": [],
   "source": [
    "l1 = list(\"abc\")\n",
    "ord(l1[0])-ord('b')"
   ]
  },
  {
   "cell_type": "code",
   "execution_count": null,
   "metadata": {},
   "outputs": [],
   "source": [
    "l1"
   ]
  },
  {
   "cell_type": "code",
   "execution_count": null,
   "metadata": {},
   "outputs": [],
   "source": [
    "set(\"abc\")"
   ]
  },
  {
   "cell_type": "code",
   "execution_count": null,
   "metadata": {},
   "outputs": [],
   "source": [
    "l1.append(1)\n",
    "l1"
   ]
  },
  {
   "cell_type": "code",
   "execution_count": null,
   "metadata": {},
   "outputs": [],
   "source": [
    "\n",
    "def StrToInt(string):\n",
    "\tcharsList = list(string)\n",
    "\tintValue = 0\n",
    "\tfor i in charsList:\n",
    "\t\tintValue = intValue*10 + ord(i) - ord('0')\n",
    "\n",
    "\t\n",
    "\treturn intValue\n",
    "\n",
    "StrToInt(\"123\")"
   ]
  },
  {
   "cell_type": "code",
   "execution_count": null,
   "metadata": {},
   "outputs": [],
   "source": [
    "class poly:\n",
    "    \n",
    "    def sum1(self,a):\n",
    "        return a+a\n",
    "\n",
    "    def sum1(self,a,b):\n",
    "        return a+b\n"
   ]
  },
  {
   "cell_type": "code",
   "execution_count": null,
   "metadata": {},
   "outputs": [],
   "source": [
    "sum1(2,3)"
   ]
  },
  {
   "cell_type": "code",
   "execution_count": null,
   "metadata": {},
   "outputs": [],
   "source": [
    "obj = poly()\n"
   ]
  },
  {
   "cell_type": "code",
   "execution_count": null,
   "metadata": {},
   "outputs": [],
   "source": [
    "obj.sum1(2)"
   ]
  },
  {
   "cell_type": "code",
   "execution_count": 2,
   "metadata": {},
   "outputs": [
    {
     "name": "stdout",
     "output_type": "stream",
     "text": [
      "flow out\n",
      "-1  in  flower\n",
      "-1  in  flowe\n",
      "knight out\n",
      "-1  in  flow\n",
      "-1  in  flo\n",
      "-1  in  fl\n",
      "-1  in  f\n",
      "\n",
      " pre\n"
     ]
    }
   ],
   "source": [
    "strs = [\"flower\",\"flow\",\"knight\"]\n",
    "prefix = strs[0]\n",
    "\n",
    "for i in range(1, len(strs)): #complexity number of strings\n",
    "    print(strs[i],\"out\")\n",
    "    while(strs[i].find(prefix)!= 0): # complexity length of second last string\n",
    "        print(strs[i].find(prefix),\" in \",prefix)\n",
    "        prefix = prefix[:-1]\n",
    "        if len(prefix)==0:\n",
    "            print (\"\")\n",
    "print(prefix, \"pre\")"
   ]
  },
  {
   "cell_type": "code",
   "execution_count": null,
   "metadata": {},
   "outputs": [],
   "source": [
    "stones = [0,1,3,5,6,8,12,17]\n",
    "curpos = stones[1]\n",
    "prevsteps = stones[1] - 0\n",
    "index = 1\n",
    "prevpos = 0\n",
    "\n",
    "while index < len(stones) :\n",
    "    prevsteps = curpos - prevpos\n",
    "    prevpos = curpos\n",
    "    if curpos == stones[len(stones)-1]:\n",
    "        print(str(curpos) + \" 4\")\n",
    "        break\n",
    "    if ((stones[index+1] - curpos) > (prevsteps +1) or (stones[index+1] - curpos) < (prevsteps -1)):\n",
    "        break\n",
    "    \n",
    "    if (curpos + prevsteps + 1) in stones:\n",
    "        #prevpos = curpos\n",
    "        curpos = curpos + prevsteps + 1\n",
    "        index = stones.index(curpos)\n",
    "        print(str(curpos) + \" 1\")\n",
    "        print(str(index) + \" 1\")\n",
    "        #prevsteps = prevsteps+1\n",
    "        print(prevsteps)\n",
    "    elif (curpos + prevsteps) in stones:\n",
    "        index = stones.index(curpos + prevsteps)\n",
    "        #prevpos = curpos\n",
    "        curpos = curpos + prevsteps\n",
    "        print(str(curpos) + \" 2\")\n",
    "    elif (curpos + prevsteps - 1) in stones:\n",
    "        index = stones.index(curpos + prevsteps - 1)\n",
    "        #prevpos = curpos\n",
    "        curpos = curpos + prevsteps - 1\n",
    "        #prevsteps=prevsteps-1\n",
    "        print(str(curpos) + \" 3\")\n",
    "        print(str(index)+\" 3\")\n",
    "\n",
    "    \n",
    "\n",
    "\n",
    "    print(\"nope\")"
   ]
  },
  {
   "cell_type": "code",
   "execution_count": null,
   "metadata": {},
   "outputs": [],
   "source": [
    "stones"
   ]
  },
  {
   "cell_type": "code",
   "execution_count": null,
   "metadata": {},
   "outputs": [],
   "source": [
    "stones = [0,1,3,5,6,8,12,17]\n",
    "d = {x: set() for x in stones}\n",
    "d[1].add(1)\n",
    "d"
   ]
  },
  {
   "cell_type": "code",
   "execution_count": null,
   "metadata": {},
   "outputs": [],
   "source": [
    "class Solution:\n",
    "    def canCross(self, stones):\n",
    "        \"\"\"\n",
    "        :type stones: List[int]\n",
    "        :rtype: bool\n",
    "        \"\"\"\n",
    "        fail=set()\n",
    "        stoneset=set(stones)\n",
    "        \n",
    "        stack=[(0,0)]\n",
    "        \n",
    "        while stack:\n",
    "            stone,jump=stack.pop()\n",
    "            print(stone,jump)\n",
    "            for j in (jump-1,jump,jump+1):\n",
    "                s=stone+j\n",
    "                \n",
    "                if j>0 and s in stoneset and (s,j) not in fail:\n",
    "                   # print(\"here\")\n",
    "                    if s==stones[-1]:\n",
    "                        return True\n",
    "                    stack.append((s,j))\n",
    "            fail.add((stone,jump))\n",
    "            print(\"fail\",fail)\n",
    "        return False\n",
    "    \n",
    "\n",
    "    \n",
    "stones = [0,1,3,5,6,8,12,17]\n",
    "s1 = Solution()\n",
    "ans = s1.canCross(stones)\n",
    "print(ans)"
   ]
  },
  {
   "cell_type": "code",
   "execution_count": null,
   "metadata": {},
   "outputs": [],
   "source": [
    "#\"\".join(stones)\n",
    "\n",
    "\n",
    "increased = int(\"\".join([str(i) for i in [9,9]]))+1\n",
    "[int(i) for i in str(increased)]"
   ]
  },
  {
   "cell_type": "code",
   "execution_count": null,
   "metadata": {},
   "outputs": [],
   "source": [
    "\"abc\"[-2:]"
   ]
  },
  {
   "cell_type": "code",
   "execution_count": null,
   "metadata": {},
   "outputs": [],
   "source": [
    "nums=[1,1,2,3,3,4]\n",
    "i = 0\n",
    "count=0\n",
    "for j in range(len(nums)):\n",
    "    if nums[j]!=nums[i]:\n",
    "        i+=1\n",
    "        nums[i] = nums[j]\n",
    "        print(nums)\n",
    "    else:\n",
    "        count+=1\n",
    "#print(nums[:-i])\n",
    "print(nums[:-(count-1)])"
   ]
  },
  {
   "cell_type": "code",
   "execution_count": null,
   "metadata": {},
   "outputs": [],
   "source": [
    "def parenthesis(str1):\n",
    "    dict1 = {\"]\":\"[\",\"}\":\"{\",\")\":\"(\"}\n",
    "    stack = []\n",
    "    \n",
    "    for i in str1:\n",
    "        if i in dict1.values():\n",
    "            stack.append(i)\n",
    "        \n",
    "        elif i in dict1:\n",
    "            if stack is None or stack.pop() != dict1[i]:\n",
    "                return False\n",
    "            \n",
    "        else:\n",
    "            return False\n",
    "        \n",
    "    return stack==[]\n",
    "            \n",
    "    "
   ]
  },
  {
   "cell_type": "code",
   "execution_count": null,
   "metadata": {},
   "outputs": [],
   "source": [
    "parenthesis(\"([])\")"
   ]
  },
  {
   "cell_type": "code",
   "execution_count": null,
   "metadata": {},
   "outputs": [],
   "source": []
  },
  {
   "cell_type": "code",
   "execution_count": 1,
   "metadata": {},
   "outputs": [
    {
     "name": "stdout",
     "output_type": "stream",
     "text": [
      "{'aaa': 'aaagtcc', 'agt': 'agtcgatg', 'tcc': 'tccajdagt', 'atg': 'atgagtagccat'}\n",
      "{'tcc': 'aaagtcc', 'atg': 'agtcgatg', 'agt': 'tccajdagt', 'cat': 'atgagtagccat'}\n",
      "aaagtcc\n",
      "['aaagtcc']\n",
      "['aaagtcc', 'tccajdagt']\n",
      "['aaagtcc', 'tccajdagt', 'agtcgatg']\n",
      "{'tcc': 'tccajdagt'}\n",
      "{'cat': 'atgagtagccat'}\n"
     ]
    }
   ],
   "source": [
    "dna = [\"aaagtcc\",\"agtcgatg\",\"tccajdagt\",\"atgagtagccat\"]\n",
    "#aaagtccajdagtcgatgagtagccat\n",
    "match = \"\"\n",
    "\n",
    "beg = {}\n",
    "end = {}\n",
    "for i in dna:\n",
    "    beg[i[:3]] = i\n",
    "    end[i[-3:]] = i\n",
    "# for i in range(len(dna)):\n",
    "#     for j in range(i,len(dna)):\n",
    "#         if dna[i][-3:]\n",
    "print(beg)\n",
    "print(end)\n",
    "\n",
    "for i in beg.keys():\n",
    "    if i not in end:\n",
    "        beginngstr = beg[i]\n",
    "        beg.pop(i)\n",
    "        break\n",
    "        \n",
    "end.pop(beginngstr[-3:])\n",
    "print(beginngstr)\n",
    "joinstr = []\n",
    "joinstr.append(beginngstr)\n",
    "while len(beg)!=1:\n",
    "    print(joinstr)\n",
    "    \n",
    "    for i in beg:\n",
    "        if i in end:\n",
    "            joinstr.append(end[i])\n",
    "            #joinstr.append(beg[i])\n",
    "            beg.pop(i)\n",
    "            end.pop(i)\n",
    "            break\n",
    "endstr = list(end.values())[0]\n",
    "#joinstr  \n",
    "print(joinstr)\n",
    "print(beg)\n",
    "print(end)\n",
    "\n"
   ]
  },
  {
   "cell_type": "code",
   "execution_count": 2,
   "metadata": {},
   "outputs": [
    {
     "data": {
      "text/plain": [
       "'atgagtagccat'"
      ]
     },
     "execution_count": 2,
     "metadata": {},
     "output_type": "execute_result"
    }
   ],
   "source": [
    "list(end.values())[0]"
   ]
  },
  {
   "cell_type": "code",
   "execution_count": 3,
   "metadata": {},
   "outputs": [],
   "source": [
    "finalstr = \"\"\n",
    "for i in joinstr:\n",
    "    finalstr+=i[:-3]\n",
    "#finalstr+endstr[-3:]"
   ]
  },
  {
   "cell_type": "code",
   "execution_count": 4,
   "metadata": {},
   "outputs": [
    {
     "data": {
      "text/plain": [
       "'aaagtccajdagtcgatgagtagccat'"
      ]
     },
     "execution_count": 4,
     "metadata": {},
     "output_type": "execute_result"
    }
   ],
   "source": [
    "finalstr\n",
    "\n",
    "'aaagtccajdagtcg'\n",
    "\"aaagtccajdagtcgatgagtagccat\""
   ]
  },
  {
   "cell_type": "code",
   "execution_count": 5,
   "metadata": {},
   "outputs": [
    {
     "data": {
      "text/plain": [
       "['aaagtcc', 'tccajdagt', 'agtcgatg']"
      ]
     },
     "execution_count": 5,
     "metadata": {},
     "output_type": "execute_result"
    }
   ],
   "source": [
    "joinstr"
   ]
  },
  {
   "cell_type": "code",
   "execution_count": 6,
   "metadata": {},
   "outputs": [
    {
     "name": "stdout",
     "output_type": "stream",
     "text": [
      "yes\n"
     ]
    }
   ],
   "source": [
    "final = finalstr+endstr\n",
    "if final == \"aaagtccajdagtcgatgagtagccat\":\n",
    "    print(\"yes\")"
   ]
  },
  {
   "cell_type": "code",
   "execution_count": null,
   "metadata": {},
   "outputs": [],
   "source": [
    "final"
   ]
  },
  {
   "cell_type": "code",
   "execution_count": null,
   "metadata": {},
   "outputs": [],
   "source": [
    "\"ab\"[-1:]\n",
    "final"
   ]
  },
  {
   "cell_type": "code",
   "execution_count": null,
   "metadata": {},
   "outputs": [],
   "source": [
    "ord('a')%26"
   ]
  },
  {
   "cell_type": "code",
   "execution_count": null,
   "metadata": {},
   "outputs": [],
   "source": [
    "strings = [\"abc\", \"bcd\", \"acef\", \"xyz\", \"az\", \"ba\", \"a\", \"z\"]\n",
    "dict1 = {}\n",
    "        \n",
    "for s in strings:\n",
    "    a1 = \"\".join([str((ord(c) - ord(s[0]))%26) for c in s])\n",
    "    #l1 = \"\".join([str((ord(c) - ord(s[0]))%26) for c in s])\n",
    "    if a1 not in dict1:\n",
    "        dict1[a1] = [s]\n",
    "    else:\n",
    "        dict1[a1].append(s)\n",
    "\n",
    "#return [dict1[key] for key in dict1.keys()]\n",
    "dict1.values()"
   ]
  },
  {
   "cell_type": "code",
   "execution_count": null,
   "metadata": {},
   "outputs": [],
   "source": [
    "dict2 = {}\n",
    "dict2[01]=\"b\"\n",
    "dict2"
   ]
  },
  {
   "cell_type": "code",
   "execution_count": null,
   "metadata": {},
   "outputs": [],
   "source": [
    "str(-1)"
   ]
  },
  {
   "cell_type": "code",
   "execution_count": null,
   "metadata": {},
   "outputs": [],
   "source": [
    "def testdiffreturn(a):\n",
    "    if a == 1:\n",
    "        return 1\n",
    "    else:\n",
    "        return True\n",
    "testdiffreturn(2)"
   ]
  },
  {
   "cell_type": "code",
   "execution_count": null,
   "metadata": {},
   "outputs": [],
   "source": [
    "\"abc\"[:-2]"
   ]
  },
  {
   "cell_type": "code",
   "execution_count": null,
   "metadata": {},
   "outputs": [],
   "source": [
    "x = {(1000, 1200), (1415, 1530), (900, 955), (800, 805), (1620, 1630)}\n",
    "s = list(x)\n",
    "s =sorted(x, key = lambda i:i[0])\n",
    "s"
   ]
  },
  {
   "cell_type": "code",
   "execution_count": null,
   "metadata": {},
   "outputs": [],
   "source": [
    "for i in range(len(s)-1):\n",
    "    t1 = str(s[i+1][0])\n",
    "    t2 = str(s[i][1])\n",
    "    endhr = int(t1[:-2])\n",
    "    endmin = int(t1[-2:])\n",
    "    openhr = int(t2[:-2])\n",
    "    openmin = int(t2[-2:])\n",
    "    diff = (endhr*60+endmin) - (openhr*60+openmin)\n",
    "    print(diff)\n",
    "    if diff >=45:\n",
    "        print(diff,\" book\")\n",
    "    \n",
    "#     endhr = int(str(s[slot+1][0])[:1])\n",
    "#     endmin = int(str(endhr*60)) + int(str(s[slot+1][0][-2:]))\n",
    "#     opehr = int(str(s[slot][1][:1]))\n",
    "#     opemin = int(str(opehr*60))+ int(str(s[slot][1][-2:]))\n",
    "#     diff = endmin-opemin\n",
    "#     print(diff)\n"
   ]
  },
  {
   "cell_type": "code",
   "execution_count": null,
   "metadata": {},
   "outputs": [],
   "source": [
    "class Node:\n",
    "    def __init__(self,x):\n",
    "        self.val = x\n",
    "        self.next = None\n",
    "        \n",
    "        \n",
    "class LinkedList: \n",
    "    def __init__(self):  \n",
    "        self.head = None\n",
    "        \n",
    "    def nthnode(self, head):\n",
    "        curr = head\n",
    "        #while curr is not None:\n",
    "            \n",
    "    def pushAtbeg(self, val):\n",
    "        newNode = Node(val)\n",
    "        newNode.next = self.head\n",
    "        self.head = newNode\n",
    "        \n",
    "    def printNode(self,head):\n",
    "        curr =  head\n",
    "        while curr is not None:\n",
    "            print (curr.val)\n",
    "            curr = curr.next\n",
    "\n"
   ]
  },
  {
   "cell_type": "code",
   "execution_count": null,
   "metadata": {},
   "outputs": [],
   "source": [
    "mylist = LinkedList()    \n",
    "mylist.pushAtbeg(1)\n",
    "mylist.printNode(mylist)"
   ]
  },
  {
   "cell_type": "code",
   "execution_count": null,
   "metadata": {},
   "outputs": [],
   "source": [
    "def extendList(val, list=[]):\n",
    "    list.append(val)\n",
    "    return list\n",
    "\n",
    "list1 = extendList(10)\n",
    "list2 = extendList(123,[])\n",
    "list3 = extendList('a')\n",
    "\n",
    "print (\"list1 = %s\" % list1)\n",
    "print (\"list2 = %s\" % list2)\n",
    "print (\"list3 = %s\" % list3)\n"
   ]
  },
  {
   "cell_type": "code",
   "execution_count": null,
   "metadata": {},
   "outputs": [],
   "source": [
    "def multipliers():\n",
    "    a = [lambda x : i * x for i in range(2)]\n",
    "    return a\n",
    " \n",
    "a2 = multipliers()\n",
    "a2[1](1)\n",
    "\n",
    "\n",
    "#print(multipliers()[0])\n",
    "    \n",
    "#     for m in multipliers():\n",
    "#     print(m(2))\n",
    "#print ([m(2) for m in multipliers()])"
   ]
  },
  {
   "cell_type": "code",
   "execution_count": null,
   "metadata": {},
   "outputs": [],
   "source": [
    "def add(a,b):\n",
    "    return lambda x: x*(a+b)"
   ]
  },
  {
   "cell_type": "code",
   "execution_count": null,
   "metadata": {},
   "outputs": [],
   "source": [
    "l1 = add(2,3)\n",
    "l1(3)"
   ]
  },
  {
   "cell_type": "code",
   "execution_count": null,
   "metadata": {},
   "outputs": [],
   "source": [
    "N = [2,3,4,6,7]\n",
    "\n",
    "[N[i] for i in range(len(N)) if i%2==0 and N[i]%2==0]"
   ]
  },
  {
   "cell_type": "code",
   "execution_count": null,
   "metadata": {},
   "outputs": [],
   "source": [
    "a = (1,2)"
   ]
  },
  {
   "cell_type": "code",
   "execution_count": null,
   "metadata": {},
   "outputs": [],
   "source": [
    "print(\"The name is {}, age {} \".format(\"Anc\",10)+\"{}\")"
   ]
  },
  {
   "cell_type": "code",
   "execution_count": 4,
   "metadata": {},
   "outputs": [
    {
     "name": "stdout",
     "output_type": "stream",
     "text": [
      "[2, 3, 4, 6, 7, 8, 9, 10]\n"
     ]
    }
   ],
   "source": [
    "a = [2,3]\n",
    "b = [4,6,7,8,9,10]\n",
    "\n",
    "sortedlist = []\n",
    "i,j = 0,0\n",
    "while i < len(a) and j < len(b):\n",
    "    if a[i] < b[j]:\n",
    "        sortedlist.append(a[i])\n",
    "        i+=1\n",
    "    else:\n",
    "        sortedlist.append(b[j])\n",
    "        j+=1\n",
    "\n",
    "if i != len(a):\n",
    "    sortedlist.extend(a[i:])\n",
    "if j != len(b):\n",
    "    sortedlist.extend(b[j:])\n",
    "\n",
    "print(sortedlist)\n",
    "    \n",
    "        "
   ]
  },
  {
   "cell_type": "code",
   "execution_count": 7,
   "metadata": {},
   "outputs": [
    {
     "name": "stdout",
     "output_type": "stream",
     "text": [
      "True\n"
     ]
    }
   ],
   "source": [
    "hm = {}\n",
    "str1 = \"abcda\"\n",
    "for i in str1:\n",
    "    if i not in hm: # hashmap style so O(1)\n",
    "        hm[i] = 1\n",
    "    else:\n",
    "        print(True)\n",
    "    \n",
    "    "
   ]
  },
  {
   "cell_type": "code",
   "execution_count": 9,
   "metadata": {},
   "outputs": [
    {
     "data": {
      "text/plain": [
       "2.5"
      ]
     },
     "execution_count": 9,
     "metadata": {},
     "output_type": "execute_result"
    }
   ],
   "source": [
    "5/2"
   ]
  },
  {
   "cell_type": "code",
   "execution_count": 20,
   "metadata": {},
   "outputs": [
    {
     "name": "stdout",
     "output_type": "stream",
     "text": [
      "Mr%20John%20Smith\n"
     ]
    }
   ],
   "source": [
    "str1 = \"Mr John Smith    \"\n",
    "# str1 = str1[:13].replace(\" \",\"%20\")\n",
    "newstr = \"\"\n",
    "for i in str1[:13]:\n",
    "    if i ==' ':\n",
    "        i = '%20'\n",
    "    newstr+=i\n",
    "print(newstr)"
   ]
  },
  {
   "cell_type": "code",
   "execution_count": 33,
   "metadata": {},
   "outputs": [
    {
     "name": "stdout",
     "output_type": "stream",
     "text": [
      "a1b1\n"
     ]
    }
   ],
   "source": [
    "str1 = \"ab\"\n",
    "count = 1\n",
    "cur = str1[0]\n",
    "compressed = [cur]\n",
    "for i in range(1,len(str1)):\n",
    "    if cur == str1[i]:\n",
    "        count+=1\n",
    "    else:\n",
    "        compressed.append(str(count))\n",
    "        cur = str1[i]\n",
    "        compressed.append(cur)\n",
    "        count=1\n",
    "        \n",
    "compressed.append(str(count))\n",
    "        \n",
    "        \n",
    "print(\"\".join(compressed))"
   ]
  },
  {
   "cell_type": "code",
   "execution_count": 6,
   "metadata": {},
   "outputs": [
    {
     "data": {
      "text/plain": [
       "9"
      ]
     },
     "execution_count": 6,
     "metadata": {},
     "output_type": "execute_result"
    }
   ],
   "source": [
    "def calculate(s):\n",
    "    num, stack, sign = 0, [], \"+\"\n",
    "    for i in range(len(s)):\n",
    "        if s[i].isdigit():\n",
    "            #num = num * 10 + int(s[i])\n",
    "            num = int(s[i])\n",
    "        if s[i] in \"+-*/\" or i == len(s) - 1:\n",
    "            if sign == \"+\":\n",
    "                stack.append(num)\n",
    "            elif sign == \"-\":\n",
    "                stack.append(-num)\n",
    "            elif sign == \"*\":\n",
    "                stack.append(stack.pop()*num)\n",
    "            else:\n",
    "                stack.append(int(stack.pop()/num))\n",
    "            num = 0\n",
    "            sign = s[i]\n",
    "    return sum(stack)\n",
    "\n",
    "calculate(\"2+3+4\")"
   ]
  },
  {
   "cell_type": "code",
   "execution_count": 82,
   "metadata": {},
   "outputs": [
    {
     "ename": "SyntaxError",
     "evalue": "invalid syntax (<ipython-input-82-5cd9e0db35fd>, line 9)",
     "output_type": "error",
     "traceback": [
      "\u001b[1;36m  File \u001b[1;32m\"<ipython-input-82-5cd9e0db35fd>\"\u001b[1;36m, line \u001b[1;32m9\u001b[0m\n\u001b[1;33m    [for i in s]\u001b[0m\n\u001b[1;37m       ^\u001b[0m\n\u001b[1;31mSyntaxError\u001b[0m\u001b[1;31m:\u001b[0m invalid syntax\n"
     ]
    }
   ],
   "source": [
    "a = [1,2,3]\n",
    "#print(a[0],a.pop())\n",
    "#a[:-2]\n",
    "for i in range(len(a)-1,-1,-1):\n",
    "    print(a[i])\n",
    "\n",
    "    \n",
    "s = 'abc'\n",
    "[for i in s]"
   ]
  },
  {
   "cell_type": "code",
   "execution_count": 29,
   "metadata": {},
   "outputs": [],
   "source": [
    "#Definition for an interval.\n",
    "class Interval:\n",
    "    def __init__(self, s=0, e=0):\n",
    "        self.start = s\n",
    "        self.end = e\n",
    "        \n",
    "list1 = [[0, 30],[5, 10],[15, 20]]\n",
    "inter = [Interval(i,j) for i,j in list1]\n",
    "\n",
    "# class Solution:\n",
    "#     def minMeetingRooms(self, intervals: 'List[Interval]') -> 'int':\n",
    "        \n",
    "#         roomCount = 0\n",
    "        \n",
    "#         intervals.sort(key=lambda x: x.start)\n",
    "#         minend = 99999999\n",
    "#         seen = []\n",
    "#         for interval in intervals:\n",
    "#             #print(roomCount)\n",
    "#             curend = interval.end\n",
    "#             minend = min(minend,curend)\n",
    "#             if len(seen)==0:\n",
    "#                 print(\"1\")\n",
    "#                 roomCount+=1\n",
    "#                 seen.append(interval)\n",
    "#                 continue\n",
    "            \n",
    "#             if interval.start < seen[-1].end:\n",
    "#                 print(\"2 \"+str(roomCount))\n",
    "#                 if curend <= minend:\n",
    "#                     print(\"3\")\n",
    "#                     roomCount+=1\n",
    "#                 else:\n",
    "#                     seen.append(interval)\n",
    "#                     minend = curend\n",
    "                    \n",
    "#         return roomCount\n",
    "        "
   ]
  },
  {
   "cell_type": "code",
   "execution_count": 30,
   "metadata": {},
   "outputs": [
    {
     "name": "stdout",
     "output_type": "stream",
     "text": [
      "1\n",
      "2 1\n",
      "3\n",
      "2 2\n"
     ]
    },
    {
     "data": {
      "text/plain": [
       "2"
      ]
     },
     "execution_count": 30,
     "metadata": {},
     "output_type": "execute_result"
    }
   ],
   "source": [
    "s = Solution()\n",
    "rc = s.minMeetingRooms(inter)\n",
    "rc"
   ]
  },
  {
   "cell_type": "code",
   "execution_count": 48,
   "metadata": {},
   "outputs": [
    {
     "name": "stdout",
     "output_type": "stream",
     "text": [
      "None\n"
     ]
    }
   ],
   "source": [
    "def validParen(str1):\n",
    "    bracks = {'}':'{',']':'[',')':'('}\n",
    "    stack = []\n",
    "    for i in str1:\n",
    "        if i in bracks.values():\n",
    "            stack.append(i)\n",
    "            #print(stack)\n",
    "        elif i in bracks.keys():\n",
    "            if stack is None or bracks[i]!=stack.pop():\n",
    "                return False\n",
    "        #else:\n",
    "         #   return False\n",
    "        \n",
    "    #print(stack)   \n",
    "    \n",
    "    if len(stack)!=0:\n",
    "        return False\n",
    "    #return len(stack)==0\n",
    "\n",
    "print(validParen(\"[{a}]\"))"
   ]
  },
  {
   "cell_type": "code",
   "execution_count": 51,
   "metadata": {},
   "outputs": [
    {
     "data": {
      "text/plain": [
       "[4, 2]"
      ]
     },
     "execution_count": 51,
     "metadata": {},
     "output_type": "execute_result"
    }
   ],
   "source": [
    "l1 = [1,2,3,4,5]\n",
    "target = 8\n",
    "\n",
    "def twosum(l1):\n",
    "    hm = {}\n",
    "    for i in range(len(l1)):\n",
    "        if target- l1[i] in hm:\n",
    "            return [i,hm[target-l1[i]]]\n",
    "        else:\n",
    "            hm[l1[i]] = i\n",
    "\n",
    "twosum(l1)\n",
    "        \n"
   ]
  },
  {
   "cell_type": "code",
   "execution_count": 52,
   "metadata": {},
   "outputs": [
    {
     "data": {
      "text/plain": [
       "'aa'"
      ]
     },
     "execution_count": 52,
     "metadata": {},
     "output_type": "execute_result"
    }
   ],
   "source": [
    "2*\"a\""
   ]
  },
  {
   "cell_type": "code",
   "execution_count": 66,
   "metadata": {},
   "outputs": [
    {
     "name": "stdout",
     "output_type": "stream",
     "text": [
      "0\n",
      "1\n",
      "1\n",
      "2\n",
      "3\n",
      "bb\n"
     ]
    }
   ],
   "source": [
    "def longestPalindrome(s):\n",
    "    res = \"\"\n",
    "    for i in range(len(s)):\n",
    "        # odd case, like \"aba\"\n",
    "        tmp = helper(s, i, i)\n",
    "        #print(tmp)\n",
    "        if len(tmp) > len(res):\n",
    "            res = tmp\n",
    "        # even case, like \"abba\"\n",
    "        tmp = helper(s, i, i+1)\n",
    "        if len(tmp) > len(res):\n",
    "            res = tmp\n",
    "    return res\n",
    " \n",
    "# get the longest palindrome, l, r are the middle indexes   \n",
    "# from inner to outer\n",
    "def helper(s, l, r):\n",
    "    #print(s[l],s[r])\n",
    "    while l >= 0 and r < len(s) and s[l] == s[r]:\n",
    "        print(l)\n",
    "        l -= 1; r += 1\n",
    "    return s[l+1:r]\n",
    "\n",
    "\n",
    "#print(longestPalindrome(\"babad\"))\n",
    "print(longestPalindrome(\"cbbd\"))"
   ]
  },
  {
   "cell_type": "code",
   "execution_count": 83,
   "metadata": {},
   "outputs": [
    {
     "data": {
      "text/plain": [
       "[1, 2, 1, 2, 1, 2, 1, 2, 1, 2]"
      ]
     },
     "execution_count": 83,
     "metadata": {},
     "output_type": "execute_result"
    }
   ],
   "source": [
    "temp = []\n",
    "for i in range(5):\n",
    "    temp.extend([1,2])\n",
    "temp"
   ]
  },
  {
   "cell_type": "code",
   "execution_count": null,
   "metadata": {},
   "outputs": [],
   "source": []
  },
  {
   "cell_type": "code",
   "execution_count": 92,
   "metadata": {},
   "outputs": [
    {
     "data": {
      "text/plain": [
       "True"
      ]
     },
     "execution_count": 92,
     "metadata": {},
     "output_type": "execute_result"
    }
   ],
   "source": [
    "def palin(str1):\n",
    "    left = 0\n",
    "    right = len(str1)-1\n",
    "    str1 = list(str1)\n",
    "    \n",
    "    mid = (left + right)//2\n",
    "    \n",
    "    while (left <= mid or right >= mid):\n",
    "        if str1[left] != str1[right]:\n",
    "            return False\n",
    "        else:\n",
    "            left+=1\n",
    "            right-=1\n",
    "    return True\n",
    "        \n",
    "palin(\"aba\")"
   ]
  }
 ],
 "metadata": {
  "kernelspec": {
   "display_name": "Python 3",
   "language": "python",
   "name": "python3"
  },
  "language_info": {
   "codemirror_mode": {
    "name": "ipython",
    "version": 3
   },
   "file_extension": ".py",
   "mimetype": "text/x-python",
   "name": "python",
   "nbconvert_exporter": "python",
   "pygments_lexer": "ipython3",
   "version": "3.7.0"
  }
 },
 "nbformat": 4,
 "nbformat_minor": 2
}
