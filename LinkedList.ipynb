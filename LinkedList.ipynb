{
 "cells": [
  {
   "cell_type": "code",
   "execution_count": 22,
   "metadata": {},
   "outputs": [],
   "source": [
    "class Node:\n",
    "    def __init__(self, val):\n",
    "        self.val = val\n",
    "        self.next = None\n",
    "        \n",
    "class LinkedList:\n",
    "    def __init__(self):\n",
    "        self.head = None\n",
    "        self.size = 0\n",
    "        \n",
    "    def getSize(self):\n",
    "        return self.size\n",
    "    \n",
    "    def addNode(self, val):\n",
    "        \n",
    "        curr = self.head\n",
    "        if curr is None:\n",
    "            self.head = Node(val)\n",
    "        else:\n",
    "            while curr.next is not None:\n",
    "                curr = curr.next\n",
    "            curr.next = Node(val)\n",
    "        self.size+=1\n",
    "        return True\n",
    "\n",
    "    \n",
    "    def printNode(self):\n",
    "        curr = self.head\n",
    "        while curr:\n",
    "            print(curr.val)\n",
    "            curr = curr.next\n",
    "        \n",
    "    \n",
    "    \n",
    "        "
   ]
  },
  {
   "cell_type": "code",
   "execution_count": 23,
   "metadata": {},
   "outputs": [
    {
     "name": "stdout",
     "output_type": "stream",
     "text": [
      "Inserting\n",
      "True\n",
      "True\n",
      "True\n",
      "Printing\n",
      "5\n",
      "15\n",
      "25\n",
      "Size\n",
      "3\n"
     ]
    }
   ],
   "source": [
    "myList = LinkedList()\n",
    "print(\"Inserting\")\n",
    "print(myList.addNode(5))\n",
    "print(myList.addNode(15))\n",
    "print(myList.addNode(25))\n",
    "print(\"Printing\")\n",
    "myList.printNode()\n",
    "print(\"Size\")\n",
    "print(myList.getSize())"
   ]
  },
  {
   "cell_type": "code",
   "execution_count": 25,
   "metadata": {},
   "outputs": [
    {
     "name": "stdout",
     "output_type": "stream",
     "text": [
      "Inserting\n",
      "True\n",
      "True\n",
      "True\n",
      "Printing\n",
      "25\n",
      "15\n",
      "5\n",
      "Size\n",
      "3\n"
     ]
    }
   ],
   "source": [
    "class Node:\n",
    "\n",
    "   def __init__(self,data,nextNode=None):\n",
    "       self.data = data\n",
    "       self.nextNode = nextNode\n",
    "\n",
    "   def getData(self):\n",
    "       return self.data\n",
    "\n",
    "   def setData(self,val):\n",
    "       self.data = val\n",
    "\n",
    "   def getNextNode(self):\n",
    "       return self.nextNode\n",
    "\n",
    "   def setNextNode(self,val):\n",
    "       self.nextNode = val\n",
    "\n",
    "class LinkedList:\n",
    "\n",
    "   def __init__(self,head = None):\n",
    "       self.head = head\n",
    "       self.size = 0\n",
    "\n",
    "   def getSize(self):\n",
    "       return self.size\n",
    "\n",
    "   def addNode(self,data):\n",
    "       newNode = Node(data,self.head)\n",
    "       self.head = newNode\n",
    "       self.size+=1\n",
    "       return True\n",
    "       \n",
    "   def printNode(self):\n",
    "       curr = self.head\n",
    "       while curr:\n",
    "           print(curr.data)\n",
    "           curr = curr.getNextNode()\n",
    "\n",
    "myList = LinkedList()\n",
    "print(\"Inserting\")\n",
    "print(myList.addNode(5))\n",
    "print(myList.addNode(15))\n",
    "print(myList.addNode(25))\n",
    "print(\"Printing\")\n",
    "myList.printNode()\n",
    "print(\"Size\")\n",
    "print(myList.getSize())\n"
   ]
  },
  {
   "cell_type": "code",
   "execution_count": null,
   "metadata": {},
   "outputs": [],
   "source": []
  }
 ],
 "metadata": {
  "kernelspec": {
   "display_name": "Python 3",
   "language": "python",
   "name": "python3"
  },
  "language_info": {
   "codemirror_mode": {
    "name": "ipython",
    "version": 3
   },
   "file_extension": ".py",
   "mimetype": "text/x-python",
   "name": "python",
   "nbconvert_exporter": "python",
   "pygments_lexer": "ipython3",
   "version": "3.7.0"
  }
 },
 "nbformat": 4,
 "nbformat_minor": 2
}
