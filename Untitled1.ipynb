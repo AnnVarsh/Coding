{
 "cells": [
  {
   "cell_type": "code",
   "execution_count": 6,
   "metadata": {},
   "outputs": [
    {
     "data": {
      "text/plain": [
       "['a', ',b,', 'd,f']"
      ]
     },
     "execution_count": 6,
     "metadata": {},
     "output_type": "execute_result"
    }
   ],
   "source": [
    "cStr = \"'a',b,'d,f'\"\n",
    "\n",
    "[s for s in cStr.split('\\'') if s and s != ',']"
   ]
  },
  {
   "cell_type": "code",
   "execution_count": 21,
   "metadata": {},
   "outputs": [
    {
     "name": "stdout",
     "output_type": "stream",
     "text": [
      "\n",
      "a\n",
      ",b,\n",
      "\n",
      "START\n",
      "\n",
      "a\n",
      "b\n",
      "c,d\n",
      "\n",
      "END\n"
     ]
    }
   ],
   "source": [
    "#str1 = \",education\"\n",
    "str1 = \"'a',b,'c,d'\"\n",
    "#str1 = \"coursera,education,test\"\n",
    "l1 = [\"START\"]\n",
    "if \"\\'\" not in str1:\n",
    "    for i in str1.split(\",\"):\n",
    "        #print(i)\n",
    "        l1.append(i)\n",
    "else:\n",
    "    for i in str1.split(\"'\"):\n",
    "        if i.count(',')%2==0:\n",
    "            print(i)\n",
    "            l1.append(i.replace(\",\",\"\"))\n",
    "        else:\n",
    "            l1.append(i)\n",
    "l1.append(\"END\")\n",
    "# for j in l1:\n",
    "#     print(j)"
   ]
  },
  {
   "cell_type": "code",
   "execution_count": 41,
   "metadata": {},
   "outputs": [
    {
     "data": {
      "text/plain": [
       "True"
      ]
     },
     "execution_count": 41,
     "metadata": {},
     "output_type": "execute_result"
    }
   ],
   "source": [
    "#set(\"CCA\")\n",
    "set(\"CCATTGGGG\") == {'A','C','G','T'}"
   ]
  }
 ],
 "metadata": {
  "kernelspec": {
   "display_name": "Python 3",
   "language": "python",
   "name": "python3"
  },
  "language_info": {
   "codemirror_mode": {
    "name": "ipython",
    "version": 3
   },
   "file_extension": ".py",
   "mimetype": "text/x-python",
   "name": "python",
   "nbconvert_exporter": "python",
   "pygments_lexer": "ipython3",
   "version": "3.7.0"
  }
 },
 "nbformat": 4,
 "nbformat_minor": 2
}
